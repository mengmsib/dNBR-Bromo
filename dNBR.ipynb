{
  "nbformat": 4,
  "nbformat_minor": 0,
  "metadata": {
    "colab": {
      "provenance": []
    },
    "kernelspec": {
      "name": "python3",
      "display_name": "Python 3"
    },
    "language_info": {
      "name": "python"
    }
  },
  "cells": [
    {
      "cell_type": "code",
      "execution_count": null,
      "metadata": {
        "id": "z59bKKOuSa9V"
      },
      "outputs": [],
      "source": [
        "!pip install -q geemap\n",
        "!pip install -U geemap\n",
        "\n",
        "\n",
        "import ee\n",
        "import geemap\n",
        "import matplotlib.pyplot as plt"
      ]
    },
    {
      "cell_type": "code",
      "source": [
        "ee.Authenticate()"
      ],
      "metadata": {
        "id": "xSbaA5s7iMQq"
      },
      "execution_count": null,
      "outputs": []
    },
    {
      "cell_type": "code",
      "source": [
        "ee.Initialize(project=\"ee-azchtateen\")"
      ],
      "metadata": {
        "id": "UvHtUZk-iP4O"
      },
      "execution_count": null,
      "outputs": []
    },
    {
      "cell_type": "code",
      "source": [
        "# Proyeksi datar (planar) Web Mercator untuk membuat buffer lingkaran\n",
        "geom = ee.Geometry.Point([112.9512, -7.9418]).buffer(10000)\n",
        "\n",
        "# Fungsi masking awan dari citra Sentinel-2\n",
        "def maskS2clouds(image):\n",
        "    qa = image.select('QA60')\n",
        "    cloudBitMask = 1 << 10\n",
        "    cirrusBitMask = 1 << 11\n",
        "    mask = qa.bitwiseAnd(cloudBitMask).eq(0).And(\n",
        "           qa.bitwiseAnd(cirrusBitMask).eq(0))\n",
        "    return image.updateMask(mask).divide(10000)\n",
        "\n",
        "# Koleksi citra sebelum kejadian (median composite)\n",
        "before = (\n",
        "    ee.ImageCollection('COPERNICUS/S2_SR_HARMONIZED')\n",
        "    .filterDate('2021-01-01', '2021-11-03')\n",
        "    .filterBounds(geom)\n",
        "    .filter(ee.Filter.lt('CLOUDY_PIXEL_PERCENTAGE', 1))\n",
        "    .map(maskS2clouds)\n",
        "    .median()\n",
        "    .clip(geom)\n",
        ")\n",
        "\n",
        "# Koleksi citra setelah kejadian (median composite)\n",
        "after = (\n",
        "    ee.ImageCollection('COPERNICUS/S2_SR_HARMONIZED')\n",
        "    .filterDate('2023-09-06', '2023-11-03')\n",
        "    .filterBounds(geom)\n",
        "    .filter(ee.Filter.lt('CLOUDY_PIXEL_PERCENTAGE', 1))\n",
        "    .map(maskS2clouds)\n",
        "    .median()\n",
        "    .clip(geom)\n",
        ")\n",
        "\n",
        "# Parameter visualisasi false-color SWIR\n",
        "vis_params = {\n",
        "    'min': 0.0,\n",
        "    'max': 0.3,\n",
        "    'bands': ['B12', 'B11', 'B4']\n",
        "}\n",
        "\n",
        "# Buat peta dan tampilkan layer\n",
        "Map = geemap.Map(center=[-7.949, 112.9496], zoom=12)\n",
        "Map.addLayer(geom, {'color': 'red'}, 'Bukit Teletubbies Buffer')\n",
        "Map.addLayer(before, vis_params, 'Before')\n",
        "Map.addLayer(after, vis_params, 'After')\n",
        "Map"
      ],
      "metadata": {
        "id": "FehYrbktW5e0"
      },
      "execution_count": null,
      "outputs": []
    },
    {
      "cell_type": "markdown",
      "source": [
        "### Calculate NBR"
      ],
      "metadata": {
        "id": "o8Aur3pvkYwj"
      }
    },
    {
      "cell_type": "code",
      "source": [
        "# Fungsi NBR\n",
        "def compute_nbr(image):\n",
        "    return image.expression(\n",
        "        \"(NIR - SWIR2) / (NIR + SWIR2)\",\n",
        "        {\n",
        "            'NIR': image.select(\"B8\"),\n",
        "            'SWIR2': image.select(\"B12\")\n",
        "        }\n",
        "    )\n",
        "\n",
        "# Hitung indeks kebakaran (NBR)\n",
        "before_nbr = compute_nbr(before)\n",
        "after_nbr = compute_nbr(after)\n",
        "\n",
        "# Tampilkan hasil\n",
        "Map.addLayer(before_nbr, {'min': -1, 'max': 1}, \"Burnt Indices Before\", False)\n",
        "Map.addLayer(after_nbr, {'min': -1, 'max': 1}, \"Burnt Indices After\", False)\n",
        "\n",
        "\n",
        "# Tampilkan peta\n",
        "Map\n"
      ],
      "metadata": {
        "id": "-OaI3xn6kiyi"
      },
      "execution_count": null,
      "outputs": []
    },
    {
      "cell_type": "markdown",
      "source": [
        "### Compute and Classify dNBR"
      ],
      "metadata": {
        "id": "LZm9_zYTkhlU"
      }
    },
    {
      "cell_type": "code",
      "source": [
        "# Hitung dNBR\n",
        "dnbr_unscaled = before_nbr.subtract(after_nbr)\n",
        "dnbr = dnbr_unscaled.multiply(1000)\n",
        "\n",
        "Map.addLayer(dnbr, {'min': -1000, 'max': 1000}, 'dNBR', False)\n",
        "Map"
      ],
      "metadata": {
        "id": "99_LjBV1Qb2L"
      },
      "execution_count": null,
      "outputs": []
    },
    {
      "cell_type": "code",
      "source": [
        "# Klasifikasi dNBR berdasarkan threshold\n",
        "thresholds = ee.Image([-1000, -251, -101, 99, 269, 439, 659, 2000])\n",
        "classified = dnbr.lt(thresholds).reduce('sum').toInt()\n",
        "\n",
        "# Definisikan palet warna sesuai dNBR klasifikasi\n",
        "palette = [\n",
        "    '#ffffff',\n",
        "    '#a41fd6',  # 0: High Severity\n",
        "    '#ff641b',  # 1: Moderate-high Severity\n",
        "    '#ffaf38',  # 2: Moderate-low Severity\n",
        "    '#fff70b',  # 3: Low Severity\n",
        "    '#0ae042',  # 4: Unburned\n",
        "    '#acbe4d',  # 5: Enhanced Regrowth, Low\n",
        "    '#7a8737'   # 6: Enhanced Regrowth, High\n",
        "]\n",
        "\n",
        "pixstats = classified.reduceRegion(\n",
        "    reducer=ee.Reducer.count(),\n",
        "    geometry=geom,\n",
        "    scale=10\n",
        ")\n",
        "\n",
        "total_pixels = ee.Number(pixstats.get('sum'))\n",
        "names = ['NA', 'High Severity', 'Moderate-high Severity',\n",
        "         'Moderate-low Severity', 'Low Severity', 'Unburned',\n",
        "         'Enhanced Regrowth, Low', 'Enhanced Regrowth, High']\n",
        "\n",
        "results = []\n",
        "for i in range(8):\n",
        "    mask = classified.eq(i)\n",
        "    count = mask.reduceRegion(\n",
        "        reducer=ee.Reducer.count(),\n",
        "        geometry=geom,\n",
        "        scale=10\n",
        "    ).get('sum')\n",
        "    count = ee.Number(count)\n",
        "    hectares = count.multiply(100).divide(10000)\n",
        "    percentage = count.divide(total_pixels).multiply(10000).round().divide(100)\n",
        "    results.append(ee.Dictionary({\n",
        "        'Class': names[i],\n",
        "        'Pixels': count,\n",
        "        'Hectares': hectares,\n",
        "        'Percentage': percentage\n",
        "    }))\n",
        "\n",
        "print('Burned Area by Severity Class:')\n",
        "for r in results:\n",
        "    print(r.getInfo())\n",
        "\n",
        "# Visualisasikan hasil klasifikasi\n",
        "Map.addLayer(classified, {'min': 0, 'max': 7, 'palette': palette}, 'dNBR Classified')\n",
        "Map"
      ],
      "metadata": {
        "id": "Gxb8gBMtXBo5"
      },
      "execution_count": null,
      "outputs": []
    },
    {
      "cell_type": "code",
      "source": [
        "# @title Histogram and Chart\n",
        "from geemap import chart\n",
        "\n",
        "# Gabungkan dua citra NBR\n",
        "stacked_nbr = before_nbr.addBands(after_nbr)\n",
        "\n",
        "# Buat histogram gabungan\n",
        "fig = chart.image_histogram(\n",
        "    stacked_nbr,\n",
        "    region=geom,\n",
        "    scale=30,\n",
        "    max_buckets=200,\n",
        "    min_bucket_width=0.01,\n",
        "    max_raw=1000,\n",
        "    max_pixels=int(1e6),\n",
        "    title=\"Histogram of NBR Before and After Fire\",\n",
        "    labels=[\"NBR Before\", \"NBR After\"],\n",
        "    colors=[\"#1d6b99\", \"#cf513e\"],\n",
        ")\n",
        "\n",
        "fig  # Tampilkan plot\n"
      ],
      "metadata": {
        "id": "tzKYXhJcXGIV"
      },
      "execution_count": null,
      "outputs": []
    },
    {
      "cell_type": "code",
      "source": [
        "# Definisikan label dan warna untuk legenda (tanpa NA)\n",
        "legend_dict = {\n",
        "    \"Enhanced Regrowth, High\": \"#7a8737\",\n",
        "    \"Enhanced Regrowth, Low\": \"#acbe4d\",\n",
        "    \"Unburned\": \"#0ae042\",\n",
        "    \"Low Severity\": \"#fff70b\",\n",
        "    \"Moderate-low Severity\": \"#ffaf38\",\n",
        "    \"Moderate-high Severity\": \"#ff641b\",\n",
        "    \"High Severity\": \"#a41fd6\"\n",
        "}\n",
        "\n",
        "\n",
        "# Tambahkan legenda ke peta\n",
        "Map.add_legend(\n",
        "    title=\"Burn Severity (dNBR)\",\n",
        "    legend_dict=legend_dict,\n",
        "    position=\"bottomright\"\n",
        ")\n",
        "\n",
        "# Tampilkan peta\n",
        "Map"
      ],
      "metadata": {
        "id": "19mZs4hJXG55"
      },
      "execution_count": null,
      "outputs": []
    },
    {
      "cell_type": "code",
      "source": [
        "# @title Export dNBR\n",
        "task = ee.batch.Export.image.toDrive(\n",
        "    image=dnbr,\n",
        "    description='dNBR2019',\n",
        "    scale=10,\n",
        "    region=geom,\n",
        "    fileFormat='GeoTIFF',\n",
        "    formatOptions={'cloudOptimized': True}\n",
        ")\n",
        "task.start()\n"
      ],
      "metadata": {
        "id": "QAqtHVOlXJVn"
      },
      "execution_count": null,
      "outputs": []
    },
    {
      "cell_type": "code",
      "source": [
        "Map"
      ],
      "metadata": {
        "id": "4knu1qYuXMcu"
      },
      "execution_count": null,
      "outputs": []
    }
  ]
}